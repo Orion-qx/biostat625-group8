{
 "cells": [
  {
   "cell_type": "markdown",
   "metadata": {},
   "source": [
    "## Classifying LoS using Machine Learning Models in MIMIC-III\n",
    "\n",
    "### Import pandas and numpy packages"
   ]
  },
  {
   "cell_type": "code",
   "execution_count": 1,
   "metadata": {},
   "outputs": [],
   "source": [
    "import pandas as pd\n",
    "import numpy as np\n",
    "\n",
    "import warnings\n",
    "warnings.filterwarnings('ignore')"
   ]
  },
  {
   "cell_type": "markdown",
   "metadata": {},
   "source": [
    "### Read in the data which is merged\n",
    "\n",
    "The data has 58979 observations"
   ]
  },
  {
   "cell_type": "code",
   "execution_count": 2,
   "metadata": {},
   "outputs": [],
   "source": [
    "data = pd.read_csv(\"merged_data.csv\")"
   ]
  },
  {
   "cell_type": "code",
   "execution_count": 3,
   "metadata": {},
   "outputs": [
    {
     "data": {
      "text/plain": [
       "(58976, 23)"
      ]
     },
     "execution_count": 3,
     "metadata": {},
     "output_type": "execute_result"
    }
   ],
   "source": [
    "data.shape"
   ]
  },
  {
   "cell_type": "code",
   "execution_count": 4,
   "metadata": {},
   "outputs": [
    {
     "data": {
      "text/plain": [
       "Index(['Unnamed: 0', 'subject_id', 'hadm_id', 'admittime', 'dischtime',\n",
       "       'admission_type', 'ethnicity', 'marital_status', 'diagnosis',\n",
       "       'hospital_expire_flag', 'deathtime', 'gender', 'dob', 'hospital_los',\n",
       "       'admit_age_yr', 'ICU_los_sum', 'ICU_times', 'icd9_code', 'num_icd',\n",
       "       'short_title', 'long_title', 'abnorm_percent', 'ethnicity_adj'],\n",
       "      dtype='object')"
      ]
     },
     "execution_count": 4,
     "metadata": {},
     "output_type": "execute_result"
    }
   ],
   "source": [
    "data.columns"
   ]
  },
  {
   "cell_type": "markdown",
   "metadata": {},
   "source": [
    "### Subset the whole dataset with variables selected\n",
    "\n",
    "Adjust the data types for variables"
   ]
  },
  {
   "cell_type": "code",
   "execution_count": 5,
   "metadata": {},
   "outputs": [],
   "source": [
    "var = ['subject_id', 'hadm_id',                                         ## identification\n",
    "       'admit_age_yr','ethnicity_adj', 'gender', 'marital_status',      ## demogrphic\n",
    "       'admission_type', 'diagnosis', 'hospital_expire_flag',           ## admission info / death\n",
    "       'hospital_los', 'ICU_los_sum',                                   ## los\n",
    "       'ICU_times', 'num_icd', 'abnorm_percent']                        ## other indicators\n",
    "data = data[var]"
   ]
  },
  {
   "cell_type": "code",
   "execution_count": 6,
   "metadata": {},
   "outputs": [],
   "source": [
    "data[\"hospital_expire_flag\"] = data[\"hospital_expire_flag\"].astype(\"object\")"
   ]
  },
  {
   "cell_type": "code",
   "execution_count": 7,
   "metadata": {},
   "outputs": [
    {
     "data": {
      "text/plain": [
       "subject_id                int64\n",
       "hadm_id                   int64\n",
       "admit_age_yr            float64\n",
       "ethnicity_adj            object\n",
       "gender                   object\n",
       "marital_status           object\n",
       "admission_type           object\n",
       "diagnosis                object\n",
       "hospital_expire_flag     object\n",
       "hospital_los            float64\n",
       "ICU_los_sum             float64\n",
       "ICU_times               float64\n",
       "num_icd                 float64\n",
       "abnorm_percent          float64\n",
       "dtype: object"
      ]
     },
     "execution_count": 7,
     "metadata": {},
     "output_type": "execute_result"
    }
   ],
   "source": [
    "data.dtypes"
   ]
  },
  {
   "cell_type": "markdown",
   "metadata": {},
   "source": [
    "### Drop the observations with missing datas"
   ]
  },
  {
   "cell_type": "code",
   "execution_count": 8,
   "metadata": {},
   "outputs": [],
   "source": [
    "data2 = data\n",
    "data2 = data2.dropna()\n",
    "data2.shape\n",
    "\n",
    "data = data2"
   ]
  },
  {
   "cell_type": "markdown",
   "metadata": {},
   "source": [
    "### Exploratory Data Analysis - Categorical Data"
   ]
  },
  {
   "cell_type": "code",
   "execution_count": 9,
   "metadata": {},
   "outputs": [
    {
     "name": "stdout",
     "output_type": "stream",
     "text": [
      "WHITE              34384\n",
      "BLACK               4757\n",
      "UNKNOWN             4122\n",
      "HISPANIC            1687\n",
      "ASIAN               1191\n",
      "OTHER                996\n",
      "MULTI RACE           114\n",
      "PORTUGUESE            59\n",
      "MIDDLE EASTERN        40\n",
      "AMERICAN NATIVE       25\n",
      "NATIVE HAWAIIAN       12\n",
      "CARIBBEAN              9\n",
      "SOUTH AMERICAN         7\n",
      "Name: ethnicity_adj, dtype: int64\n",
      "M    26581\n",
      "F    20822\n",
      "Name: gender, dtype: int64\n",
      "MARRIED              23462\n",
      "SINGLE               12904\n",
      "WIDOWED               7008\n",
      "DIVORCED              3119\n",
      "SEPARATED              555\n",
      "UNKNOWN (DEFAULT)      340\n",
      "LIFE PARTNER            15\n",
      "Name: marital_status, dtype: int64\n",
      "EMERGENCY    39088\n",
      "ELECTIVE      6868\n",
      "URGENT        1148\n",
      "NEWBORN        299\n",
      "Name: admission_type, dtype: int64\n",
      "14533\n",
      "0    42258\n",
      "1     5145\n",
      "Name: hospital_expire_flag, dtype: int64\n"
     ]
    }
   ],
   "source": [
    "print(data[\"ethnicity_adj\"].value_counts())\n",
    "print(data[\"gender\"].value_counts())\n",
    "print(data[\"marital_status\"].value_counts())\n",
    "print(data[\"admission_type\"].value_counts())\n",
    "print(len(data[\"diagnosis\"].unique()))\n",
    "print(data[\"hospital_expire_flag\"].value_counts())"
   ]
  },
  {
   "cell_type": "markdown",
   "metadata": {},
   "source": [
    "### Exploratory Data Analysis - Quantatitive Data"
   ]
  },
  {
   "cell_type": "code",
   "execution_count": 10,
   "metadata": {},
   "outputs": [
    {
     "data": {
      "text/html": [
       "<div>\n",
       "<style scoped>\n",
       "    .dataframe tbody tr th:only-of-type {\n",
       "        vertical-align: middle;\n",
       "    }\n",
       "\n",
       "    .dataframe tbody tr th {\n",
       "        vertical-align: top;\n",
       "    }\n",
       "\n",
       "    .dataframe thead th {\n",
       "        text-align: right;\n",
       "    }\n",
       "</style>\n",
       "<table border=\"1\" class=\"dataframe\">\n",
       "  <thead>\n",
       "    <tr style=\"text-align: right;\">\n",
       "      <th></th>\n",
       "      <th>subject_id</th>\n",
       "      <th>hadm_id</th>\n",
       "      <th>admit_age_yr</th>\n",
       "      <th>hospital_los</th>\n",
       "      <th>ICU_los_sum</th>\n",
       "      <th>ICU_times</th>\n",
       "      <th>num_icd</th>\n",
       "      <th>abnorm_percent</th>\n",
       "    </tr>\n",
       "  </thead>\n",
       "  <tbody>\n",
       "    <tr>\n",
       "      <th>count</th>\n",
       "      <td>47403.00000</td>\n",
       "      <td>47403.000000</td>\n",
       "      <td>47403.000000</td>\n",
       "      <td>47403.000000</td>\n",
       "      <td>47403.000000</td>\n",
       "      <td>47403.000000</td>\n",
       "      <td>47403.000000</td>\n",
       "      <td>47403.000000</td>\n",
       "    </tr>\n",
       "    <tr>\n",
       "      <th>mean</th>\n",
       "      <td>36798.74489</td>\n",
       "      <td>149984.326730</td>\n",
       "      <td>63.495570</td>\n",
       "      <td>10.031783</td>\n",
       "      <td>4.458169</td>\n",
       "      <td>1.073371</td>\n",
       "      <td>12.046727</td>\n",
       "      <td>0.340378</td>\n",
       "    </tr>\n",
       "    <tr>\n",
       "      <th>std</th>\n",
       "      <td>29001.39648</td>\n",
       "      <td>28900.726103</td>\n",
       "      <td>17.841933</td>\n",
       "      <td>10.897917</td>\n",
       "      <td>6.911652</td>\n",
       "      <td>0.304143</td>\n",
       "      <td>6.481199</td>\n",
       "      <td>0.099372</td>\n",
       "    </tr>\n",
       "    <tr>\n",
       "      <th>min</th>\n",
       "      <td>3.00000</td>\n",
       "      <td>100001.000000</td>\n",
       "      <td>0.000000</td>\n",
       "      <td>-0.797222</td>\n",
       "      <td>0.000200</td>\n",
       "      <td>1.000000</td>\n",
       "      <td>1.000000</td>\n",
       "      <td>0.000000</td>\n",
       "    </tr>\n",
       "    <tr>\n",
       "      <th>25%</th>\n",
       "      <td>13329.00000</td>\n",
       "      <td>124979.000000</td>\n",
       "      <td>52.524749</td>\n",
       "      <td>4.055903</td>\n",
       "      <td>1.229750</td>\n",
       "      <td>1.000000</td>\n",
       "      <td>8.000000</td>\n",
       "      <td>0.275316</td>\n",
       "    </tr>\n",
       "    <tr>\n",
       "      <th>50%</th>\n",
       "      <td>26754.00000</td>\n",
       "      <td>150007.000000</td>\n",
       "      <td>65.399337</td>\n",
       "      <td>6.929861</td>\n",
       "      <td>2.202700</td>\n",
       "      <td>1.000000</td>\n",
       "      <td>10.000000</td>\n",
       "      <td>0.338645</td>\n",
       "    </tr>\n",
       "    <tr>\n",
       "      <th>75%</th>\n",
       "      <td>60081.50000</td>\n",
       "      <td>175065.500000</td>\n",
       "      <td>77.565263</td>\n",
       "      <td>11.947222</td>\n",
       "      <td>4.532400</td>\n",
       "      <td>1.000000</td>\n",
       "      <td>16.000000</td>\n",
       "      <td>0.404762</td>\n",
       "    </tr>\n",
       "    <tr>\n",
       "      <th>max</th>\n",
       "      <td>99999.00000</td>\n",
       "      <td>199999.000000</td>\n",
       "      <td>90.000000</td>\n",
       "      <td>294.618750</td>\n",
       "      <td>260.708900</td>\n",
       "      <td>7.000000</td>\n",
       "      <td>39.000000</td>\n",
       "      <td>0.777778</td>\n",
       "    </tr>\n",
       "  </tbody>\n",
       "</table>\n",
       "</div>"
      ],
      "text/plain": [
       "        subject_id        hadm_id  admit_age_yr  hospital_los   ICU_los_sum  \\\n",
       "count  47403.00000   47403.000000  47403.000000  47403.000000  47403.000000   \n",
       "mean   36798.74489  149984.326730     63.495570     10.031783      4.458169   \n",
       "std    29001.39648   28900.726103     17.841933     10.897917      6.911652   \n",
       "min        3.00000  100001.000000      0.000000     -0.797222      0.000200   \n",
       "25%    13329.00000  124979.000000     52.524749      4.055903      1.229750   \n",
       "50%    26754.00000  150007.000000     65.399337      6.929861      2.202700   \n",
       "75%    60081.50000  175065.500000     77.565263     11.947222      4.532400   \n",
       "max    99999.00000  199999.000000     90.000000    294.618750    260.708900   \n",
       "\n",
       "          ICU_times       num_icd  abnorm_percent  \n",
       "count  47403.000000  47403.000000    47403.000000  \n",
       "mean       1.073371     12.046727        0.340378  \n",
       "std        0.304143      6.481199        0.099372  \n",
       "min        1.000000      1.000000        0.000000  \n",
       "25%        1.000000      8.000000        0.275316  \n",
       "50%        1.000000     10.000000        0.338645  \n",
       "75%        1.000000     16.000000        0.404762  \n",
       "max        7.000000     39.000000        0.777778  "
      ]
     },
     "execution_count": 10,
     "metadata": {},
     "output_type": "execute_result"
    }
   ],
   "source": [
    "data.describe()"
   ]
  },
  {
   "cell_type": "code",
   "execution_count": 11,
   "metadata": {},
   "outputs": [],
   "source": [
    "import seaborn as sns"
   ]
  },
  {
   "cell_type": "code",
   "execution_count": 12,
   "metadata": {},
   "outputs": [
    {
     "data": {
      "text/plain": [
       "<matplotlib.axes._subplots.AxesSubplot at 0x1999f1cf898>"
      ]
     },
     "execution_count": 12,
     "metadata": {},
     "output_type": "execute_result"
    },
    {
     "data": {
      "image/png": "[encoded data removed]",
      "text/plain": [
       "<Figure size 432x288 with 1 Axes>"
      ]
     },
     "metadata": {
      "needs_background": "light"
     },
     "output_type": "display_data"
    }
   ],
   "source": [
    "sns.distplot(data[\"admit_age_yr\"])"
   ]
  },
  {
   "cell_type": "markdown",
   "metadata": {},
   "source": [
    "the distribution for patients age when admitted shows the majority of patients are over 50 years old, however, for patients over 89, the data hide the actual age and replace as a higher number, we use 90 for patients over 89"
   ]
  },
  {
   "cell_type": "code",
   "execution_count": 13,
   "metadata": {},
   "outputs": [
    {
     "data": {
      "text/plain": [
       "<matplotlib.axes._subplots.AxesSubplot at 0x1999d414240>"
      ]
     },
     "execution_count": 13,
     "metadata": {},
     "output_type": "execute_result"
    },
    {
     "data": {
      "image/png": "[encoded data removed]",
      "text/plain": [
       "<Figure size 432x288 with 1 Axes>"
      ]
     },
     "metadata": {
      "needs_background": "light"
     },
     "output_type": "display_data"
    }
   ],
   "source": [
    "sns.distplot(data[\"hospital_los\"])"
   ]
  },
  {
   "cell_type": "markdown",
   "metadata": {},
   "source": [
    "most of the length stayed in the hospital are less then 50 days and highly skewed to right"
   ]
  },
  {
   "cell_type": "code",
   "execution_count": 14,
   "metadata": {},
   "outputs": [
    {
     "data": {
      "text/plain": [
       "<matplotlib.axes._subplots.AxesSubplot at 0x1999f564c18>"
      ]
     },
     "execution_count": 14,
     "metadata": {},
     "output_type": "execute_result"
    },
    {
     "data": {
      "image/png": "[encoded data removed]",
      "text/plain": [
       "<Figure size 432x288 with 1 Axes>"
      ]
     },
     "metadata": {
      "needs_background": "light"
     },
     "output_type": "display_data"
    }
   ],
   "source": [
    "sns.distplot(data[\"ICU_los_sum\"])"
   ]
  },
  {
   "cell_type": "markdown",
   "metadata": {},
   "source": [
    "a calculation on total ICU stays also shows highly skewed to right and most of the patients did not went into ICU for several days"
   ]
  },
  {
   "cell_type": "code",
   "execution_count": 15,
   "metadata": {},
   "outputs": [
    {
     "data": {
      "text/plain": [
       "<matplotlib.axes._subplots.AxesSubplot at 0x1999f9099e8>"
      ]
     },
     "execution_count": 15,
     "metadata": {},
     "output_type": "execute_result"
    },
    {
     "data": {
      "image/png": "[encoded data removed]",
      "text/plain": [
       "<Figure size 432x288 with 1 Axes>"
      ]
     },
     "metadata": {
      "needs_background": "light"
     },
     "output_type": "display_data"
    }
   ],
   "source": [
    "sns.distplot(data[\"ICU_times\"])"
   ]
  },
  {
   "cell_type": "markdown",
   "metadata": {},
   "source": [
    "Since it is a emergency system data, the total times that one patient went into ICU is counted, most are 1 times, and the highest is 7 times"
   ]
  },
  {
   "cell_type": "code",
   "execution_count": 16,
   "metadata": {},
   "outputs": [
    {
     "data": {
      "text/plain": [
       "<matplotlib.axes._subplots.AxesSubplot at 0x1999fa19470>"
      ]
     },
     "execution_count": 16,
     "metadata": {},
     "output_type": "execute_result"
    },
    {
     "data": {
      "image/png": "[encoded data removed]",
      "text/plain": [
       "<Figure size 432x288 with 1 Axes>"
      ]
     },
     "metadata": {
      "needs_background": "light"
     },
     "output_type": "display_data"
    }
   ],
   "source": [
    "sns.distplot(data[\"num_icd\"])"
   ]
  },
  {
   "cell_type": "markdown",
   "metadata": {},
   "source": [
    "the patients will be diagnosised during the visit and the results will be presented by icd9 codes, we counted the number of icd9 codes for each patients, more icd9 codes for one patients means more server situation"
   ]
  },
  {
   "cell_type": "code",
   "execution_count": 17,
   "metadata": {},
   "outputs": [
    {
     "data": {
      "text/plain": [
       "<matplotlib.axes._subplots.AxesSubplot at 0x1999f1f9320>"
      ]
     },
     "execution_count": 17,
     "metadata": {},
     "output_type": "execute_result"
    },
    {
     "data": {
      "image/png": "[encoded data removed]",
      "text/plain": [
       "<Figure size 432x288 with 1 Axes>"
      ]
     },
     "metadata": {
      "needs_background": "light"
     },
     "output_type": "display_data"
    }
   ],
   "source": [
    "sns.distplot(data[\"abnorm_percent\"])"
   ]
  },
  {
   "cell_type": "markdown",
   "metadata": {},
   "source": [
    "we also calculated the adnormal lab test results for each patients in percentage, it is surprised to see that the distribution is normal and centered at around 0.38"
   ]
  },
  {
   "cell_type": "markdown",
   "metadata": {},
   "source": [
    "## One-Hot Vector for Categorical Variables\n",
    "\n",
    "Due to the machine learning methods theories, categorical variables cannot use numbers (factorization) to level. A common way to solve the problem is to use one-hot vector method. More information about how the one-hot work, can be found here: https://machinelearningmastery.com/why-one-hot-encode-data-in-machine-learning/"
   ]
  },
  {
   "cell_type": "code",
   "execution_count": 18,
   "metadata": {},
   "outputs": [],
   "source": [
    "cat = ['ethnicity_adj', 'gender', 'marital_status', 'admission_type', \"hospital_expire_flag\"]  ##'diagnosis', \n",
    "cat_dummy = pd.get_dummies(data[cat])"
   ]
  },
  {
   "cell_type": "code",
   "execution_count": 19,
   "metadata": {},
   "outputs": [],
   "source": [
    "numr = ['admit_age_yr', 'hospital_los', 'ICU_times', 'num_icd', \"abnorm_percent\"]\n",
    "data_num = data[numr]"
   ]
  },
  {
   "cell_type": "code",
   "execution_count": 20,
   "metadata": {},
   "outputs": [],
   "source": [
    "data_all = pd.concat([data_num, cat_dummy], axis=1)"
   ]
  },
  {
   "cell_type": "code",
   "execution_count": 21,
   "metadata": {},
   "outputs": [
    {
     "data": {
      "text/html": [
       "<div>\n",
       "<style scoped>\n",
       "    .dataframe tbody tr th:only-of-type {\n",
       "        vertical-align: middle;\n",
       "    }\n",
       "\n",
       "    .dataframe tbody tr th {\n",
       "        vertical-align: top;\n",
       "    }\n",
       "\n",
       "    .dataframe thead th {\n",
       "        text-align: right;\n",
       "    }\n",
       "</style>\n",
       "<table border=\"1\" class=\"dataframe\">\n",
       "  <thead>\n",
       "    <tr style=\"text-align: right;\">\n",
       "      <th></th>\n",
       "      <th>admit_age_yr</th>\n",
       "      <th>hospital_los</th>\n",
       "      <th>ICU_times</th>\n",
       "      <th>num_icd</th>\n",
       "      <th>abnorm_percent</th>\n",
       "      <th>ethnicity_adj_AMERICAN NATIVE</th>\n",
       "      <th>ethnicity_adj_ASIAN</th>\n",
       "      <th>ethnicity_adj_BLACK</th>\n",
       "      <th>ethnicity_adj_CARIBBEAN</th>\n",
       "      <th>ethnicity_adj_HISPANIC</th>\n",
       "      <th>...</th>\n",
       "      <th>marital_status_SEPARATED</th>\n",
       "      <th>marital_status_SINGLE</th>\n",
       "      <th>marital_status_UNKNOWN (DEFAULT)</th>\n",
       "      <th>marital_status_WIDOWED</th>\n",
       "      <th>admission_type_ELECTIVE</th>\n",
       "      <th>admission_type_EMERGENCY</th>\n",
       "      <th>admission_type_NEWBORN</th>\n",
       "      <th>admission_type_URGENT</th>\n",
       "      <th>hospital_expire_flag_0</th>\n",
       "      <th>hospital_expire_flag_1</th>\n",
       "    </tr>\n",
       "  </thead>\n",
       "  <tbody>\n",
       "    <tr>\n",
       "      <th>0</th>\n",
       "      <td>64.838053</td>\n",
       "      <td>1.144444</td>\n",
       "      <td>1.0</td>\n",
       "      <td>7.0</td>\n",
       "      <td>0.043956</td>\n",
       "      <td>0</td>\n",
       "      <td>0</td>\n",
       "      <td>0</td>\n",
       "      <td>0</td>\n",
       "      <td>0</td>\n",
       "      <td>...</td>\n",
       "      <td>0</td>\n",
       "      <td>0</td>\n",
       "      <td>0</td>\n",
       "      <td>0</td>\n",
       "      <td>0</td>\n",
       "      <td>1</td>\n",
       "      <td>0</td>\n",
       "      <td>0</td>\n",
       "      <td>1</td>\n",
       "      <td>0</td>\n",
       "    </tr>\n",
       "    <tr>\n",
       "      <th>1</th>\n",
       "      <td>71.032952</td>\n",
       "      <td>5.496528</td>\n",
       "      <td>1.0</td>\n",
       "      <td>8.0</td>\n",
       "      <td>0.360577</td>\n",
       "      <td>0</td>\n",
       "      <td>0</td>\n",
       "      <td>0</td>\n",
       "      <td>0</td>\n",
       "      <td>0</td>\n",
       "      <td>...</td>\n",
       "      <td>0</td>\n",
       "      <td>0</td>\n",
       "      <td>0</td>\n",
       "      <td>0</td>\n",
       "      <td>1</td>\n",
       "      <td>0</td>\n",
       "      <td>0</td>\n",
       "      <td>0</td>\n",
       "      <td>1</td>\n",
       "      <td>0</td>\n",
       "    </tr>\n",
       "    <tr>\n",
       "      <th>2</th>\n",
       "      <td>75.151921</td>\n",
       "      <td>6.768056</td>\n",
       "      <td>1.0</td>\n",
       "      <td>10.0</td>\n",
       "      <td>0.312217</td>\n",
       "      <td>0</td>\n",
       "      <td>0</td>\n",
       "      <td>0</td>\n",
       "      <td>0</td>\n",
       "      <td>0</td>\n",
       "      <td>...</td>\n",
       "      <td>0</td>\n",
       "      <td>0</td>\n",
       "      <td>0</td>\n",
       "      <td>0</td>\n",
       "      <td>0</td>\n",
       "      <td>1</td>\n",
       "      <td>0</td>\n",
       "      <td>0</td>\n",
       "      <td>1</td>\n",
       "      <td>0</td>\n",
       "    </tr>\n",
       "    <tr>\n",
       "      <th>3</th>\n",
       "      <td>38.962888</td>\n",
       "      <td>2.856944</td>\n",
       "      <td>1.0</td>\n",
       "      <td>4.0</td>\n",
       "      <td>0.131313</td>\n",
       "      <td>0</td>\n",
       "      <td>0</td>\n",
       "      <td>0</td>\n",
       "      <td>0</td>\n",
       "      <td>0</td>\n",
       "      <td>...</td>\n",
       "      <td>0</td>\n",
       "      <td>1</td>\n",
       "      <td>0</td>\n",
       "      <td>0</td>\n",
       "      <td>0</td>\n",
       "      <td>1</td>\n",
       "      <td>0</td>\n",
       "      <td>0</td>\n",
       "      <td>1</td>\n",
       "      <td>0</td>\n",
       "    </tr>\n",
       "    <tr>\n",
       "      <th>4</th>\n",
       "      <td>58.868319</td>\n",
       "      <td>3.534028</td>\n",
       "      <td>1.0</td>\n",
       "      <td>4.0</td>\n",
       "      <td>0.377778</td>\n",
       "      <td>0</td>\n",
       "      <td>0</td>\n",
       "      <td>0</td>\n",
       "      <td>0</td>\n",
       "      <td>0</td>\n",
       "      <td>...</td>\n",
       "      <td>0</td>\n",
       "      <td>0</td>\n",
       "      <td>0</td>\n",
       "      <td>0</td>\n",
       "      <td>0</td>\n",
       "      <td>1</td>\n",
       "      <td>0</td>\n",
       "      <td>0</td>\n",
       "      <td>1</td>\n",
       "      <td>0</td>\n",
       "    </tr>\n",
       "  </tbody>\n",
       "</table>\n",
       "<p>5 rows × 33 columns</p>\n",
       "</div>"
      ],
      "text/plain": [
       "   admit_age_yr  hospital_los  ICU_times  num_icd  abnorm_percent  \\\n",
       "0     64.838053      1.144444        1.0      7.0        0.043956   \n",
       "1     71.032952      5.496528        1.0      8.0        0.360577   \n",
       "2     75.151921      6.768056        1.0     10.0        0.312217   \n",
       "3     38.962888      2.856944        1.0      4.0        0.131313   \n",
       "4     58.868319      3.534028        1.0      4.0        0.377778   \n",
       "\n",
       "   ethnicity_adj_AMERICAN NATIVE  ethnicity_adj_ASIAN  ethnicity_adj_BLACK  \\\n",
       "0                              0                    0                    0   \n",
       "1                              0                    0                    0   \n",
       "2                              0                    0                    0   \n",
       "3                              0                    0                    0   \n",
       "4                              0                    0                    0   \n",
       "\n",
       "   ethnicity_adj_CARIBBEAN  ethnicity_adj_HISPANIC  ...  \\\n",
       "0                        0                       0  ...   \n",
       "1                        0                       0  ...   \n",
       "2                        0                       0  ...   \n",
       "3                        0                       0  ...   \n",
       "4                        0                       0  ...   \n",
       "\n",
       "   marital_status_SEPARATED  marital_status_SINGLE  \\\n",
       "0                         0                      0   \n",
       "1                         0                      0   \n",
       "2                         0                      0   \n",
       "3                         0                      1   \n",
       "4                         0                      0   \n",
       "\n",
       "   marital_status_UNKNOWN (DEFAULT)  marital_status_WIDOWED  \\\n",
       "0                                 0                       0   \n",
       "1                                 0                       0   \n",
       "2                                 0                       0   \n",
       "3                                 0                       0   \n",
       "4                                 0                       0   \n",
       "\n",
       "   admission_type_ELECTIVE  admission_type_EMERGENCY  admission_type_NEWBORN  \\\n",
       "0                        0                         1                       0   \n",
       "1                        1                         0                       0   \n",
       "2                        0                         1                       0   \n",
       "3                        0                         1                       0   \n",
       "4                        0                         1                       0   \n",
       "\n",
       "   admission_type_URGENT  hospital_expire_flag_0  hospital_expire_flag_1  \n",
       "0                      0                       1                       0  \n",
       "1                      0                       1                       0  \n",
       "2                      0                       1                       0  \n",
       "3                      0                       1                       0  \n",
       "4                      0                       1                       0  \n",
       "\n",
       "[5 rows x 33 columns]"
      ]
     },
     "execution_count": 21,
     "metadata": {},
     "output_type": "execute_result"
    }
   ],
   "source": [
    "data_all.head(5)"
   ]
  },
  {
   "cell_type": "markdown",
   "metadata": {},
   "source": [
    "<hr>\n",
    "\n",
    "since the dignosis has a total of over 10,000 unique values, it will be hard for models to run with all columns, we excluded the diagnosis at first the here is the shape"
   ]
  },
  {
   "cell_type": "code",
   "execution_count": 22,
   "metadata": {},
   "outputs": [
    {
     "data": {
      "text/plain": [
       "(47403, 33)"
      ]
     },
     "execution_count": 22,
     "metadata": {},
     "output_type": "execute_result"
    }
   ],
   "source": [
    "data_all.shape"
   ]
  },
  {
   "cell_type": "markdown",
   "metadata": {},
   "source": [
    "## Separate to predictor and response\n",
    "\n",
    "as well as train and test data"
   ]
  },
  {
   "cell_type": "code",
   "execution_count": 23,
   "metadata": {},
   "outputs": [],
   "source": [
    "y_data = data_all[\"hospital_los\"]\n",
    "X = data_all.drop(columns = [\"hospital_los\"])"
   ]
  },
  {
   "cell_type": "markdown",
   "metadata": {},
   "source": [
    "since we are classifying the LoS by 5 days, we encode the LoS by the following rules:\n",
    "- if LoS is less or equal to 5, encode as 0\n",
    "- if LoS is greater than 5, encode as 1"
   ]
  },
  {
   "cell_type": "code",
   "execution_count": 24,
   "metadata": {},
   "outputs": [],
   "source": [
    "## <= 5 days -- 0\n",
    "## > 5 days -- 1\n",
    "y1 = [0 if number <= 5 else 1 for number in y_data]"
   ]
  },
  {
   "cell_type": "markdown",
   "metadata": {},
   "source": [
    "#### Train and test split"
   ]
  },
  {
   "cell_type": "code",
   "execution_count": 25,
   "metadata": {},
   "outputs": [],
   "source": [
    "from sklearn import datasets, model_selection as ms, metrics, cluster, linear_model as lm"
   ]
  },
  {
   "cell_type": "code",
   "execution_count": 26,
   "metadata": {},
   "outputs": [],
   "source": [
    "from sklearn.model_selection import cross_val_score"
   ]
  },
  {
   "cell_type": "code",
   "execution_count": 27,
   "metadata": {},
   "outputs": [],
   "source": [
    "X_train, X_test, y_train, y_test = ms.train_test_split(X, y1, test_size=0.2)"
   ]
  },
  {
   "cell_type": "markdown",
   "metadata": {},
   "source": [
    "## SVM model\n",
    "\n",
    "building the SVC (classification in SVM) with basic parameters and stanardscaler"
   ]
  },
  {
   "cell_type": "code",
   "execution_count": 28,
   "metadata": {},
   "outputs": [
    {
     "data": {
      "text/plain": [
       "Pipeline(memory=None,\n",
       "         steps=[('standardscaler',\n",
       "                 StandardScaler(copy=True, with_mean=True, with_std=True)),\n",
       "                ('svc',\n",
       "                 SVC(C=1.0, cache_size=200, class_weight=None, coef0=0.0,\n",
       "                     decision_function_shape='ovr', degree=3, gamma='auto',\n",
       "                     kernel='rbf', max_iter=-1, probability=False,\n",
       "                     random_state=None, shrinking=True, tol=0.001,\n",
       "                     verbose=False))],\n",
       "         verbose=False)"
      ]
     },
     "execution_count": 28,
     "metadata": {},
     "output_type": "execute_result"
    }
   ],
   "source": [
    "from sklearn.svm import SVC\n",
    "from sklearn.pipeline import make_pipeline\n",
    "from sklearn.preprocessing import StandardScaler\n",
    "clf = make_pipeline(StandardScaler(), SVC(gamma='auto'))\n",
    "clf.fit(X_train, y_train)"
   ]
  },
  {
   "cell_type": "markdown",
   "metadata": {},
   "source": [
    "#### cross-validation\n",
    "\n",
    "having the 5-fold cross valiation, the unbiased accuracy score is around 70%"
   ]
  },
  {
   "cell_type": "code",
   "execution_count": 44,
   "metadata": {},
   "outputs": [
    {
     "data": {
      "text/plain": [
       "0.6965803625906044"
      ]
     },
     "execution_count": 44,
     "metadata": {},
     "output_type": "execute_result"
    }
   ],
   "source": [
    "scores_svc = cross_val_score(clf, X, y1, cv=5)\n",
    "np.mean(scores_svc)"
   ]
  },
  {
   "cell_type": "code",
   "execution_count": 43,
   "metadata": {},
   "outputs": [
    {
     "data": {
      "image/png": "[encoded data removed]",
      "text/plain": [
       "<Figure size 432x288 with 1 Axes>"
      ]
     },
     "metadata": {
      "needs_background": "light"
     },
     "output_type": "display_data"
    }
   ],
   "source": [
    "import matplotlib.pyplot as plt\n",
    "metrics.plot_roc_curve(clf, X_test, y_test) \n",
    "plt.show()"
   ]
  },
  {
   "cell_type": "markdown",
   "metadata": {},
   "source": [
    "## Random Forest Model"
   ]
  },
  {
   "cell_type": "code",
   "execution_count": 29,
   "metadata": {},
   "outputs": [
    {
     "data": {
      "text/plain": [
       "RandomForestClassifier(bootstrap=True, class_weight=None, criterion='gini',\n",
       "                       max_depth=5, max_features='auto', max_leaf_nodes=None,\n",
       "                       min_impurity_decrease=0.0, min_impurity_split=None,\n",
       "                       min_samples_leaf=1, min_samples_split=2,\n",
       "                       min_weight_fraction_leaf=0.0, n_estimators=10,\n",
       "                       n_jobs=None, oob_score=False, random_state=0, verbose=0,\n",
       "                       warm_start=False)"
      ]
     },
     "execution_count": 29,
     "metadata": {},
     "output_type": "execute_result"
    }
   ],
   "source": [
    "from sklearn.ensemble import RandomForestClassifier\n",
    "from sklearn.datasets import make_classification\n",
    "rf = RandomForestClassifier(max_depth=5, random_state=0)\n",
    "rf.fit(X_train, y_train)"
   ]
  },
  {
   "cell_type": "markdown",
   "metadata": {},
   "source": [
    "#### cross-validation\n",
    "\n",
    "having the 5-fold cross valiation, the unbiased accuracy score is around 70%, but lower than basic SVC"
   ]
  },
  {
   "cell_type": "code",
   "execution_count": 30,
   "metadata": {},
   "outputs": [
    {
     "data": {
      "text/plain": [
       "0.6963691028514948"
      ]
     },
     "execution_count": 30,
     "metadata": {},
     "output_type": "execute_result"
    }
   ],
   "source": [
    "scores_rf = cross_val_score(rf, X, y1, cv=5)\n",
    "np.mean(scores_rf)"
   ]
  },
  {
   "cell_type": "code",
   "execution_count": 31,
   "metadata": {},
   "outputs": [
    {
     "data": {
      "image/png": "[encoded data removed]",
      "text/plain": [
       "<Figure size 432x288 with 1 Axes>"
      ]
     },
     "metadata": {
      "needs_background": "light"
     },
     "output_type": "display_data"
    }
   ],
   "source": [
    "import matplotlib.pyplot as plt\n",
    "metrics.plot_roc_curve(rf, X_test, y_test) \n",
    "plt.show()"
   ]
  },
  {
   "cell_type": "markdown",
   "metadata": {},
   "source": [
    "## Tuning for RF\n",
    "\n",
    "Having 24 pairs of candidates parameters and fit the randomforest for 120 times for the best parameter combinitions"
   ]
  },
  {
   "cell_type": "code",
   "execution_count": 32,
   "metadata": {},
   "outputs": [
    {
     "name": "stdout",
     "output_type": "stream",
     "text": [
      "Fitting 5 folds for each of 24 candidates, totalling 120 fits\n",
      "[CV 1/5] END criterion=gini, max_depth=1, max_features=auto;, score=0.658 total time=   0.4s\n",
      "[CV 2/5] END criterion=gini, max_depth=1, max_features=auto;, score=0.658 total time=   0.3s\n",
      "[CV 3/5] END criterion=gini, max_depth=1, max_features=auto;, score=0.658 total time=   0.3s\n",
      "[CV 4/5] END criterion=gini, max_depth=1, max_features=auto;, score=0.658 total time=   0.3s\n",
      "[CV 5/5] END criterion=gini, max_depth=1, max_features=auto;, score=0.658 total time=   0.3s\n",
      "[CV 1/5] END criterion=gini, max_depth=1, max_features=sqrt;, score=0.658 total time=   0.3s\n",
      "[CV 2/5] END criterion=gini, max_depth=1, max_features=sqrt;, score=0.658 total time=   0.3s\n",
      "[CV 3/5] END criterion=gini, max_depth=1, max_features=sqrt;, score=0.658 total time=   0.3s\n",
      "[CV 4/5] END criterion=gini, max_depth=1, max_features=sqrt;, score=0.658 total time=   0.3s\n",
      "[CV 5/5] END criterion=gini, max_depth=1, max_features=sqrt;, score=0.658 total time=   0.3s\n",
      "[CV 1/5] END criterion=gini, max_depth=1, max_features=log2;, score=0.658 total time=   0.3s\n",
      "[CV 2/5] END criterion=gini, max_depth=1, max_features=log2;, score=0.658 total time=   0.3s\n",
      "[CV 3/5] END criterion=gini, max_depth=1, max_features=log2;, score=0.658 total time=   0.3s\n",
      "[CV 4/5] END criterion=gini, max_depth=1, max_features=log2;, score=0.658 total time=   0.3s\n",
      "[CV 5/5] END criterion=gini, max_depth=1, max_features=log2;, score=0.658 total time=   0.3s\n",
      "[CV 1/5] END criterion=gini, max_depth=5, max_features=auto;, score=0.698 total time=   0.8s\n",
      "[CV 2/5] END criterion=gini, max_depth=5, max_features=auto;, score=0.693 total time=   0.8s\n",
      "[CV 3/5] END criterion=gini, max_depth=5, max_features=auto;, score=0.695 total time=   0.8s\n",
      "[CV 4/5] END criterion=gini, max_depth=5, max_features=auto;, score=0.701 total time=   0.8s\n",
      "[CV 5/5] END criterion=gini, max_depth=5, max_features=auto;, score=0.698 total time=   0.8s\n",
      "[CV 1/5] END criterion=gini, max_depth=5, max_features=sqrt;, score=0.698 total time=   0.8s\n",
      "[CV 2/5] END criterion=gini, max_depth=5, max_features=sqrt;, score=0.694 total time=   0.8s\n",
      "[CV 3/5] END criterion=gini, max_depth=5, max_features=sqrt;, score=0.694 total time=   0.8s\n",
      "[CV 4/5] END criterion=gini, max_depth=5, max_features=sqrt;, score=0.699 total time=   0.8s\n",
      "[CV 5/5] END criterion=gini, max_depth=5, max_features=sqrt;, score=0.697 total time=   0.8s\n",
      "[CV 1/5] END criterion=gini, max_depth=5, max_features=log2;, score=0.698 total time=   0.8s\n",
      "[CV 2/5] END criterion=gini, max_depth=5, max_features=log2;, score=0.694 total time=   0.8s\n",
      "[CV 3/5] END criterion=gini, max_depth=5, max_features=log2;, score=0.693 total time=   0.8s\n",
      "[CV 4/5] END criterion=gini, max_depth=5, max_features=log2;, score=0.701 total time=   0.8s\n",
      "[CV 5/5] END criterion=gini, max_depth=5, max_features=log2;, score=0.699 total time=   0.8s\n",
      "[CV 1/5] END criterion=gini, max_depth=10, max_features=auto;, score=0.709 total time=   1.3s\n",
      "[CV 2/5] END criterion=gini, max_depth=10, max_features=auto;, score=0.706 total time=   1.5s\n",
      "[CV 3/5] END criterion=gini, max_depth=10, max_features=auto;, score=0.711 total time=   1.4s\n",
      "[CV 4/5] END criterion=gini, max_depth=10, max_features=auto;, score=0.713 total time=   1.4s\n",
      "[CV 5/5] END criterion=gini, max_depth=10, max_features=auto;, score=0.711 total time=   1.4s\n",
      "[CV 1/5] END criterion=gini, max_depth=10, max_features=sqrt;, score=0.709 total time=   1.4s\n",
      "[CV 2/5] END criterion=gini, max_depth=10, max_features=sqrt;, score=0.707 total time=   1.4s\n",
      "[CV 3/5] END criterion=gini, max_depth=10, max_features=sqrt;, score=0.709 total time=   1.4s\n",
      "[CV 4/5] END criterion=gini, max_depth=10, max_features=sqrt;, score=0.714 total time=   1.4s\n",
      "[CV 5/5] END criterion=gini, max_depth=10, max_features=sqrt;, score=0.710 total time=   1.3s\n",
      "[CV 1/5] END criterion=gini, max_depth=10, max_features=log2;, score=0.707 total time=   1.4s\n",
      "[CV 2/5] END criterion=gini, max_depth=10, max_features=log2;, score=0.704 total time=   1.3s\n",
      "[CV 3/5] END criterion=gini, max_depth=10, max_features=log2;, score=0.712 total time=   1.3s\n",
      "[CV 4/5] END criterion=gini, max_depth=10, max_features=log2;, score=0.711 total time=   1.4s\n",
      "[CV 5/5] END criterion=gini, max_depth=10, max_features=log2;, score=0.710 total time=   1.4s\n",
      "[CV 1/5] END criterion=gini, max_depth=100, max_features=auto;, score=0.678 total time=   2.9s\n",
      "[CV 2/5] END criterion=gini, max_depth=100, max_features=auto;, score=0.677 total time=   2.9s\n",
      "[CV 3/5] END criterion=gini, max_depth=100, max_features=auto;, score=0.681 total time=   2.9s\n",
      "[CV 4/5] END criterion=gini, max_depth=100, max_features=auto;, score=0.689 total time=   2.9s\n",
      "[CV 5/5] END criterion=gini, max_depth=100, max_features=auto;, score=0.684 total time=   2.9s\n",
      "[CV 1/5] END criterion=gini, max_depth=100, max_features=sqrt;, score=0.677 total time=   2.9s\n",
      "[CV 2/5] END criterion=gini, max_depth=100, max_features=sqrt;, score=0.680 total time=   2.9s\n",
      "[CV 3/5] END criterion=gini, max_depth=100, max_features=sqrt;, score=0.682 total time=   3.0s\n",
      "[CV 4/5] END criterion=gini, max_depth=100, max_features=sqrt;, score=0.686 total time=   3.0s\n",
      "[CV 5/5] END criterion=gini, max_depth=100, max_features=sqrt;, score=0.686 total time=   2.9s\n",
      "[CV 1/5] END criterion=gini, max_depth=100, max_features=log2;, score=0.677 total time=   2.9s\n",
      "[CV 2/5] END criterion=gini, max_depth=100, max_features=log2;, score=0.682 total time=   2.9s\n",
      "[CV 3/5] END criterion=gini, max_depth=100, max_features=log2;, score=0.679 total time=   2.9s\n",
      "[CV 4/5] END criterion=gini, max_depth=100, max_features=log2;, score=0.688 total time=   2.9s\n",
      "[CV 5/5] END criterion=gini, max_depth=100, max_features=log2;, score=0.686 total time=   2.9s\n",
      "[CV 1/5] END criterion=entropy, max_depth=1, max_features=auto;, score=0.658 total time=   0.4s\n",
      "[CV 2/5] END criterion=entropy, max_depth=1, max_features=auto;, score=0.658 total time=   0.3s\n",
      "[CV 3/5] END criterion=entropy, max_depth=1, max_features=auto;, score=0.658 total time=   0.3s\n",
      "[CV 4/5] END criterion=entropy, max_depth=1, max_features=auto;, score=0.658 total time=   0.4s\n",
      "[CV 5/5] END criterion=entropy, max_depth=1, max_features=auto;, score=0.658 total time=   0.4s\n",
      "[CV 1/5] END criterion=entropy, max_depth=1, max_features=sqrt;, score=0.658 total time=   0.3s\n",
      "[CV 2/5] END criterion=entropy, max_depth=1, max_features=sqrt;, score=0.658 total time=   0.3s\n",
      "[CV 3/5] END criterion=entropy, max_depth=1, max_features=sqrt;, score=0.658 total time=   0.3s\n",
      "[CV 4/5] END criterion=entropy, max_depth=1, max_features=sqrt;, score=0.658 total time=   0.3s\n",
      "[CV 5/5] END criterion=entropy, max_depth=1, max_features=sqrt;, score=0.658 total time=   0.3s\n",
      "[CV 1/5] END criterion=entropy, max_depth=1, max_features=log2;, score=0.658 total time=   0.3s\n",
      "[CV 2/5] END criterion=entropy, max_depth=1, max_features=log2;, score=0.658 total time=   0.3s\n",
      "[CV 3/5] END criterion=entropy, max_depth=1, max_features=log2;, score=0.658 total time=   0.3s\n",
      "[CV 4/5] END criterion=entropy, max_depth=1, max_features=log2;, score=0.658 total time=   0.4s\n",
      "[CV 5/5] END criterion=entropy, max_depth=1, max_features=log2;, score=0.658 total time=   0.4s\n",
      "[CV 1/5] END criterion=entropy, max_depth=5, max_features=auto;, score=0.698 total time=   0.9s\n",
      "[CV 2/5] END criterion=entropy, max_depth=5, max_features=auto;, score=0.694 total time=   1.0s\n",
      "[CV 3/5] END criterion=entropy, max_depth=5, max_features=auto;, score=0.696 total time=   0.9s\n",
      "[CV 4/5] END criterion=entropy, max_depth=5, max_features=auto;, score=0.701 total time=   0.9s\n",
      "[CV 5/5] END criterion=entropy, max_depth=5, max_features=auto;, score=0.696 total time=   0.9s\n",
      "[CV 1/5] END criterion=entropy, max_depth=5, max_features=sqrt;, score=0.696 total time=   0.9s\n",
      "[CV 2/5] END criterion=entropy, max_depth=5, max_features=sqrt;, score=0.692 total time=   0.9s\n",
      "[CV 3/5] END criterion=entropy, max_depth=5, max_features=sqrt;, score=0.696 total time=   0.9s\n",
      "[CV 4/5] END criterion=entropy, max_depth=5, max_features=sqrt;, score=0.700 total time=   0.9s\n",
      "[CV 5/5] END criterion=entropy, max_depth=5, max_features=sqrt;, score=0.699 total time=   0.9s\n",
      "[CV 1/5] END criterion=entropy, max_depth=5, max_features=log2;, score=0.698 total time=   0.9s\n",
      "[CV 2/5] END criterion=entropy, max_depth=5, max_features=log2;, score=0.694 total time=   0.9s\n",
      "[CV 3/5] END criterion=entropy, max_depth=5, max_features=log2;, score=0.693 total time=   0.9s\n",
      "[CV 4/5] END criterion=entropy, max_depth=5, max_features=log2;, score=0.701 total time=   0.9s\n",
      "[CV 5/5] END criterion=entropy, max_depth=5, max_features=log2;, score=0.697 total time=   0.9s\n",
      "[CV 1/5] END criterion=entropy, max_depth=10, max_features=auto;, score=0.708 total time=   1.6s\n",
      "[CV 2/5] END criterion=entropy, max_depth=10, max_features=auto;, score=0.706 total time=   1.6s\n",
      "[CV 3/5] END criterion=entropy, max_depth=10, max_features=auto;, score=0.709 total time=   1.6s\n",
      "[CV 4/5] END criterion=entropy, max_depth=10, max_features=auto;, score=0.711 total time=   1.6s\n",
      "[CV 5/5] END criterion=entropy, max_depth=10, max_features=auto;, score=0.709 total time=   1.6s\n",
      "[CV 1/5] END criterion=entropy, max_depth=10, max_features=sqrt;, score=0.707 total time=   1.6s\n",
      "[CV 2/5] END criterion=entropy, max_depth=10, max_features=sqrt;, score=0.703 total time=   1.6s\n",
      "[CV 3/5] END criterion=entropy, max_depth=10, max_features=sqrt;, score=0.708 total time=   1.6s\n",
      "[CV 4/5] END criterion=entropy, max_depth=10, max_features=sqrt;, score=0.712 total time=   1.6s\n",
      "[CV 5/5] END criterion=entropy, max_depth=10, max_features=sqrt;, score=0.709 total time=   1.6s\n",
      "[CV 1/5] END criterion=entropy, max_depth=10, max_features=log2;, score=0.707 total time=   1.6s\n",
      "[CV 2/5] END criterion=entropy, max_depth=10, max_features=log2;, score=0.702 total time=   1.7s\n",
      "[CV 3/5] END criterion=entropy, max_depth=10, max_features=log2;, score=0.706 total time=   1.6s\n",
      "[CV 4/5] END criterion=entropy, max_depth=10, max_features=log2;, score=0.710 total time=   1.6s\n",
      "[CV 5/5] END criterion=entropy, max_depth=10, max_features=log2;, score=0.708 total time=   1.6s\n",
      "[CV 1/5] END criterion=entropy, max_depth=100, max_features=auto;, score=0.677 total time=   3.8s\n",
      "[CV 2/5] END criterion=entropy, max_depth=100, max_features=auto;, score=0.677 total time=   3.8s\n",
      "[CV 3/5] END criterion=entropy, max_depth=100, max_features=auto;, score=0.684 total time=   3.8s\n",
      "[CV 4/5] END criterion=entropy, max_depth=100, max_features=auto;, score=0.690 total time=   3.8s\n",
      "[CV 5/5] END criterion=entropy, max_depth=100, max_features=auto;, score=0.684 total time=   3.7s\n",
      "[CV 1/5] END criterion=entropy, max_depth=100, max_features=sqrt;, score=0.676 total time=   3.7s\n",
      "[CV 2/5] END criterion=entropy, max_depth=100, max_features=sqrt;, score=0.677 total time=   3.7s\n",
      "[CV 3/5] END criterion=entropy, max_depth=100, max_features=sqrt;, score=0.679 total time=   3.8s\n",
      "[CV 4/5] END criterion=entropy, max_depth=100, max_features=sqrt;, score=0.688 total time=   3.8s\n",
      "[CV 5/5] END criterion=entropy, max_depth=100, max_features=sqrt;, score=0.687 total time=   3.8s\n",
      "[CV 1/5] END criterion=entropy, max_depth=100, max_features=log2;, score=0.680 total time=   3.8s\n",
      "[CV 2/5] END criterion=entropy, max_depth=100, max_features=log2;, score=0.676 total time=   3.7s\n",
      "[CV 3/5] END criterion=entropy, max_depth=100, max_features=log2;, score=0.679 total time=   3.7s\n",
      "[CV 4/5] END criterion=entropy, max_depth=100, max_features=log2;, score=0.689 total time=   3.8s\n",
      "[CV 5/5] END criterion=entropy, max_depth=100, max_features=log2;, score=0.687 total time=   3.8s\n"
     ]
    },
    {
     "data": {
      "text/plain": [
       "GridSearchCV(estimator=RandomForestClassifier(),\n",
       "             param_grid={'criterion': ['gini', 'entropy'],\n",
       "                         'max_depth': [1, 5, 10, 100],\n",
       "                         'max_features': ['auto', 'sqrt', 'log2']},\n",
       "             verbose=3)"
      ]
     },
     "execution_count": 32,
     "metadata": {},
     "output_type": "execute_result"
    }
   ],
   "source": [
    "from sklearn.model_selection import GridSearchCV\n",
    "\n",
    "# defining parameter range\n",
    "param_grid = {'criterion': ['gini', \"entropy\"],\n",
    "              'max_depth': [1, 5, 10, 100],\n",
    "              'max_features': ['auto', 'sqrt', 'log2']}\n",
    " \n",
    "grid = GridSearchCV(RandomForestClassifier(), param_grid, refit = True, verbose = 3)\n",
    "grid.fit(X_train, y_train)"
   ]
  },
  {
   "cell_type": "code",
   "execution_count": 33,
   "metadata": {},
   "outputs": [
    {
     "name": "stdout",
     "output_type": "stream",
     "text": [
      "{'criterion': 'gini', 'max_depth': 10, 'max_features': 'auto'}\n",
      "RandomForestClassifier(max_depth=10)\n"
     ]
    }
   ],
   "source": [
    "print(grid.best_params_)\n",
    "print(grid.best_estimator_)"
   ]
  },
  {
   "cell_type": "markdown",
   "metadata": {},
   "source": [
    "the best parameters is shown above"
   ]
  },
  {
   "cell_type": "code",
   "execution_count": 34,
   "metadata": {},
   "outputs": [
    {
     "name": "stdout",
     "output_type": "stream",
     "text": [
      "              precision    recall  f1-score   support\n",
      "\n",
      "           0       0.65      0.27      0.39      3164\n",
      "           1       0.72      0.93      0.81      6317\n",
      "\n",
      "    accuracy                           0.71      9481\n",
      "   macro avg       0.69      0.60      0.60      9481\n",
      "weighted avg       0.70      0.71      0.67      9481\n",
      "\n"
     ]
    }
   ],
   "source": [
    "grid_predictions = grid.predict(X_test)\n",
    "\n",
    "from sklearn.metrics import classification_report\n",
    "print(classification_report(y_test, grid_predictions))"
   ]
  },
  {
   "cell_type": "markdown",
   "metadata": {},
   "source": [
    "Having the classification report (above) indicates that the accuracy for the best can be increased to 71% and the roc (below) can have a AUC = 0.74"
   ]
  },
  {
   "cell_type": "code",
   "execution_count": 35,
   "metadata": {},
   "outputs": [
    {
     "data": {
      "image/png": "[encoded data removed]",
      "text/plain": [
       "<Figure size 432x288 with 1 Axes>"
      ]
     },
     "metadata": {
      "needs_background": "light"
     },
     "output_type": "display_data"
    }
   ],
   "source": [
    "rf = RandomForestClassifier(max_depth=10,criterion = 'gini',max_features= 'auto')\n",
    "rf.fit(X_train, y_train)\n",
    "metrics.plot_roc_curve(rf, X_test, y_test) \n",
    "plt.show()"
   ]
  },
  {
   "cell_type": "markdown",
   "metadata": {},
   "source": [
    "## Include diagnosis for RF\n",
    "\n",
    "since random forest can run much faster than SVM, we added the diagnosis into the data, the final shape of the data is:\n",
    "- 47403 observations\n",
    "- 14566 variables"
   ]
  },
  {
   "cell_type": "code",
   "execution_count": 11,
   "metadata": {},
   "outputs": [
    {
     "data": {
      "text/plain": [
       "(47403, 14566)"
      ]
     },
     "execution_count": 11,
     "metadata": {},
     "output_type": "execute_result"
    }
   ],
   "source": [
    "cat = ['ethnicity_adj', 'gender', 'marital_status', 'admission_type', 'diagnosis', \"hospital_expire_flag\"] \n",
    "cat_dummy1 = pd.get_dummies(data[cat])\n",
    "numr = ['admit_age_yr', 'hospital_los', 'ICU_times', 'num_icd', \"abnorm_percent\"]\n",
    "data_num1 = data[numr]\n",
    "data_all1 = pd.concat([data_num1, cat_dummy1], axis=1)\n",
    "data_all1.shape"
   ]
  },
  {
   "cell_type": "markdown",
   "metadata": {},
   "source": [
    "Do the same threshold for levels"
   ]
  },
  {
   "cell_type": "code",
   "execution_count": 36,
   "metadata": {},
   "outputs": [],
   "source": [
    "y_data1 = data_all1[\"hospital_los\"]\n",
    "X1 = data_all1.drop(columns = [\"hospital_los\"])\n",
    "\n",
    "## <= 5 days -- 0\n",
    "## > 5 days -- 1\n",
    "y11 = [0 if number <= 5 else 1 for number in y_data1]"
   ]
  },
  {
   "cell_type": "markdown",
   "metadata": {},
   "source": [
    "split the data into train and test"
   ]
  },
  {
   "cell_type": "code",
   "execution_count": 37,
   "metadata": {},
   "outputs": [],
   "source": [
    "X_train1, X_test1, y_train1, y_test1 = ms.train_test_split(X1, y11, test_size=0.2)"
   ]
  },
  {
   "cell_type": "markdown",
   "metadata": {},
   "source": [
    "tuning the parameters for RF with some candidates"
   ]
  },
  {
   "cell_type": "code",
   "execution_count": 38,
   "metadata": {},
   "outputs": [
    {
     "name": "stdout",
     "output_type": "stream",
     "text": [
      "Fitting 5 folds for each of 12 candidates, totalling 60 fits\n",
      "[CV 1/5] END criterion=gini, max_depth=2, max_features=auto;, score=0.661 total time=   5.6s\n",
      "[CV 2/5] END criterion=gini, max_depth=2, max_features=auto;, score=0.661 total time=   5.5s\n",
      "[CV 3/5] END criterion=gini, max_depth=2, max_features=auto;, score=0.661 total time=   5.6s\n",
      "[CV 4/5] END criterion=gini, max_depth=2, max_features=auto;, score=0.661 total time=   5.6s\n",
      "[CV 5/5] END criterion=gini, max_depth=2, max_features=auto;, score=0.661 total time=   5.4s\n",
      "[CV 1/5] END criterion=gini, max_depth=2, max_features=sqrt;, score=0.661 total time=   5.6s\n",
      "[CV 2/5] END criterion=gini, max_depth=2, max_features=sqrt;, score=0.661 total time=   5.5s\n",
      "[CV 3/5] END criterion=gini, max_depth=2, max_features=sqrt;, score=0.661 total time=   5.6s\n",
      "[CV 4/5] END criterion=gini, max_depth=2, max_features=sqrt;, score=0.661 total time=   5.4s\n",
      "[CV 5/5] END criterion=gini, max_depth=2, max_features=sqrt;, score=0.661 total time=   5.6s\n",
      "[CV 1/5] END criterion=gini, max_depth=2, max_features=log2;, score=0.661 total time=   4.3s\n",
      "[CV 2/5] END criterion=gini, max_depth=2, max_features=log2;, score=0.661 total time=   4.4s\n",
      "[CV 3/5] END criterion=gini, max_depth=2, max_features=log2;, score=0.661 total time=   4.4s\n",
      "[CV 4/5] END criterion=gini, max_depth=2, max_features=log2;, score=0.661 total time=   4.2s\n",
      "[CV 5/5] END criterion=gini, max_depth=2, max_features=log2;, score=0.661 total time=   4.4s\n",
      "[CV 1/5] END criterion=gini, max_depth=5, max_features=auto;, score=0.661 total time=   8.1s\n",
      "[CV 2/5] END criterion=gini, max_depth=5, max_features=auto;, score=0.661 total time=   8.0s\n",
      "[CV 3/5] END criterion=gini, max_depth=5, max_features=auto;, score=0.661 total time=   8.1s\n",
      "[CV 4/5] END criterion=gini, max_depth=5, max_features=auto;, score=0.661 total time=   8.2s\n",
      "[CV 5/5] END criterion=gini, max_depth=5, max_features=auto;, score=0.661 total time=   8.2s\n",
      "[CV 1/5] END criterion=gini, max_depth=5, max_features=sqrt;, score=0.661 total time=   8.2s\n",
      "[CV 2/5] END criterion=gini, max_depth=5, max_features=sqrt;, score=0.661 total time=   8.2s\n",
      "[CV 3/5] END criterion=gini, max_depth=5, max_features=sqrt;, score=0.661 total time=   8.2s\n",
      "[CV 4/5] END criterion=gini, max_depth=5, max_features=sqrt;, score=0.661 total time=   8.1s\n",
      "[CV 5/5] END criterion=gini, max_depth=5, max_features=sqrt;, score=0.661 total time=   8.3s\n",
      "[CV 1/5] END criterion=gini, max_depth=5, max_features=log2;, score=0.661 total time=   4.8s\n",
      "[CV 2/5] END criterion=gini, max_depth=5, max_features=log2;, score=0.661 total time=   4.6s\n",
      "[CV 3/5] END criterion=gini, max_depth=5, max_features=log2;, score=0.661 total time=   4.8s\n",
      "[CV 4/5] END criterion=gini, max_depth=5, max_features=log2;, score=0.661 total time=   4.8s\n",
      "[CV 5/5] END criterion=gini, max_depth=5, max_features=log2;, score=0.661 total time=   4.8s\n",
      "[CV 1/5] END criterion=entropy, max_depth=2, max_features=auto;, score=0.661 total time=   5.5s\n",
      "[CV 2/5] END criterion=entropy, max_depth=2, max_features=auto;, score=0.661 total time=   5.5s\n",
      "[CV 3/5] END criterion=entropy, max_depth=2, max_features=auto;, score=0.661 total time=   5.5s\n",
      "[CV 4/5] END criterion=entropy, max_depth=2, max_features=auto;, score=0.661 total time=   5.5s\n",
      "[CV 5/5] END criterion=entropy, max_depth=2, max_features=auto;, score=0.661 total time=   5.5s\n",
      "[CV 1/5] END criterion=entropy, max_depth=2, max_features=sqrt;, score=0.661 total time=   5.5s\n",
      "[CV 2/5] END criterion=entropy, max_depth=2, max_features=sqrt;, score=0.661 total time=   5.5s\n",
      "[CV 3/5] END criterion=entropy, max_depth=2, max_features=sqrt;, score=0.661 total time=   5.6s\n",
      "[CV 4/5] END criterion=entropy, max_depth=2, max_features=sqrt;, score=0.661 total time=   5.5s\n",
      "[CV 5/5] END criterion=entropy, max_depth=2, max_features=sqrt;, score=0.661 total time=   5.6s\n",
      "[CV 1/5] END criterion=entropy, max_depth=2, max_features=log2;, score=0.661 total time=   4.6s\n",
      "[CV 2/5] END criterion=entropy, max_depth=2, max_features=log2;, score=0.661 total time=   4.3s\n",
      "[CV 3/5] END criterion=entropy, max_depth=2, max_features=log2;, score=0.661 total time=   4.5s\n",
      "[CV 4/5] END criterion=entropy, max_depth=2, max_features=log2;, score=0.661 total time=   5.4s\n",
      "[CV 5/5] END criterion=entropy, max_depth=2, max_features=log2;, score=0.661 total time=   6.3s\n",
      "[CV 1/5] END criterion=entropy, max_depth=5, max_features=auto;, score=0.661 total time=  10.2s\n",
      "[CV 2/5] END criterion=entropy, max_depth=5, max_features=auto;, score=0.661 total time=  10.1s\n",
      "[CV 3/5] END criterion=entropy, max_depth=5, max_features=auto;, score=0.661 total time=  10.3s\n",
      "[CV 4/5] END criterion=entropy, max_depth=5, max_features=auto;, score=0.661 total time=  10.1s\n",
      "[CV 5/5] END criterion=entropy, max_depth=5, max_features=auto;, score=0.661 total time=  10.3s\n",
      "[CV 1/5] END criterion=entropy, max_depth=5, max_features=sqrt;, score=0.661 total time=  10.1s\n",
      "[CV 2/5] END criterion=entropy, max_depth=5, max_features=sqrt;, score=0.661 total time=  10.0s\n",
      "[CV 3/5] END criterion=entropy, max_depth=5, max_features=sqrt;, score=0.661 total time=  10.1s\n",
      "[CV 4/5] END criterion=entropy, max_depth=5, max_features=sqrt;, score=0.661 total time=  10.0s\n",
      "[CV 5/5] END criterion=entropy, max_depth=5, max_features=sqrt;, score=0.661 total time=  10.2s\n",
      "[CV 1/5] END criterion=entropy, max_depth=5, max_features=log2;, score=0.661 total time=   6.2s\n",
      "[CV 2/5] END criterion=entropy, max_depth=5, max_features=log2;, score=0.661 total time=   6.1s\n",
      "[CV 3/5] END criterion=entropy, max_depth=5, max_features=log2;, score=0.661 total time=   4.8s\n",
      "[CV 4/5] END criterion=entropy, max_depth=5, max_features=log2;, score=0.661 total time=   4.9s\n",
      "[CV 5/5] END criterion=entropy, max_depth=5, max_features=log2;, score=0.661 total time=   4.9s\n"
     ]
    },
    {
     "data": {
      "text/plain": [
       "GridSearchCV(estimator=RandomForestClassifier(),\n",
       "             param_grid={'criterion': ['gini', 'entropy'], 'max_depth': [2, 5],\n",
       "                         'max_features': ['auto', 'sqrt', 'log2']},\n",
       "             verbose=3)"
      ]
     },
     "execution_count": 38,
     "metadata": {},
     "output_type": "execute_result"
    }
   ],
   "source": [
    "# defining parameter range\n",
    "param_grid = {'criterion': ['gini', \"entropy\"],\n",
    "              'max_depth': [2,5],\n",
    "              'max_features': ['auto', 'sqrt', 'log2']}\n",
    " \n",
    "grid = GridSearchCV(RandomForestClassifier(), param_grid, refit = True, verbose = 3)\n",
    "grid.fit(X_train1, y_train1)"
   ]
  },
  {
   "cell_type": "markdown",
   "metadata": {},
   "source": [
    "since the number of columns are so large, the score is actually consistant among all combinations"
   ]
  },
  {
   "cell_type": "code",
   "execution_count": 39,
   "metadata": {},
   "outputs": [
    {
     "name": "stdout",
     "output_type": "stream",
     "text": [
      "{'criterion': 'gini', 'max_depth': 2, 'max_features': 'auto'}\n",
      "RandomForestClassifier(max_depth=2)\n"
     ]
    }
   ],
   "source": [
    "print(grid.best_params_)\n",
    "print(grid.best_estimator_)"
   ]
  },
  {
   "cell_type": "code",
   "execution_count": 40,
   "metadata": {},
   "outputs": [
    {
     "name": "stdout",
     "output_type": "stream",
     "text": [
      "              precision    recall  f1-score   support\n",
      "\n",
      "           0       0.00      0.00      0.00      3284\n",
      "           1       0.65      1.00      0.79      6197\n",
      "\n",
      "    accuracy                           0.65      9481\n",
      "   macro avg       0.33      0.50      0.40      9481\n",
      "weighted avg       0.43      0.65      0.52      9481\n",
      "\n"
     ]
    }
   ],
   "source": [
    "grid_predictions = grid.predict(X_test1)\n",
    "\n",
    "from sklearn.metrics import classification_report\n",
    "print(classification_report(y_test1, grid_predictions))"
   ]
  },
  {
   "cell_type": "markdown",
   "metadata": {},
   "source": [
    "A classifcation report (above) and roc plot (below) also produced with AUC = 0.71"
   ]
  },
  {
   "cell_type": "code",
   "execution_count": 41,
   "metadata": {},
   "outputs": [
    {
     "data": {
      "image/png": "[encoded data removed]",
      "text/plain": [
       "<Figure size 432x288 with 1 Axes>"
      ]
     },
     "metadata": {
      "needs_background": "light"
     },
     "output_type": "display_data"
    }
   ],
   "source": [
    "rf = RandomForestClassifier(max_depth=2, criterion = 'gini',max_features= 'auto')\n",
    "rf.fit(X_train, y_train)\n",
    "metrics.plot_roc_curve(rf, X_test, y_test) \n",
    "plt.show()"
   ]
  },
  {
   "cell_type": "code",
   "execution_count": null,
   "metadata": {},
   "outputs": [],
   "source": []
  },
  {
   "cell_type": "markdown",
   "metadata": {},
   "source": [
    "## Plotting the ROC and AUC classifcation results in one plot"
   ]
  },
  {
   "cell_type": "code",
   "execution_count": 41,
   "metadata": {},
   "outputs": [],
   "source": [
    "import matplotlib.pyplot as plt"
   ]
  },
  {
   "cell_type": "code",
   "execution_count": 49,
   "metadata": {},
   "outputs": [],
   "source": [
    "from sklearn.metrics import roc_curve, roc_auc_score\n",
    "\n",
    "# Instantiate the classfiers and make a list\n",
    "classifiers = [make_pipeline(StandardScaler(), SVC(gamma='auto', probability=True)), \n",
    "               RandomForestClassifier(max_depth=5, random_state=0), \n",
    "               RandomForestClassifier(max_depth=10,criterion = 'gini',max_features= 'auto')]\n",
    "\n",
    "# Define a result table as a DataFrame\n",
    "result_table = pd.DataFrame(columns=['classifiers', 'fpr','tpr','auc'])\n",
    "\n",
    "# Train the models and record the results\n",
    "for cls in classifiers:\n",
    "    model = cls.fit(X_train, y_train)\n",
    "    yproba = model.predict_proba(X_test)[::,1]\n",
    "    \n",
    "    fpr, tpr, _ = roc_curve(y_test,  yproba)\n",
    "    auc = roc_auc_score(y_test, yproba)\n",
    "    \n",
    "    result_table = result_table.append({'classifiers':cls.__class__.__name__,\n",
    "                                        'fpr':fpr, \n",
    "                                        'tpr':tpr, \n",
    "                                        'auc':auc}, ignore_index=True)\n",
    "\n",
    "# Set name of the classifiers as index labels\n",
    "result_table.set_index('classifiers', inplace=True)"
   ]
  },
  {
   "cell_type": "code",
   "execution_count": 70,
   "metadata": {},
   "outputs": [],
   "source": [
    "name = [\"baseline_SVC\", \"baseline_RF\", \"tuned_RF\"]\n",
    "result_table[\"label\"] = name"
   ]
  },
  {
   "cell_type": "code",
   "execution_count": 72,
   "metadata": {},
   "outputs": [],
   "source": [
    "result_table = result_table.reset_index()"
   ]
  },
  {
   "cell_type": "code",
   "execution_count": 73,
   "metadata": {},
   "outputs": [
    {
     "data": {
      "text/html": [
       "<div>\n",
       "<style scoped>\n",
       "    .dataframe tbody tr th:only-of-type {\n",
       "        vertical-align: middle;\n",
       "    }\n",
       "\n",
       "    .dataframe tbody tr th {\n",
       "        vertical-align: top;\n",
       "    }\n",
       "\n",
       "    .dataframe thead th {\n",
       "        text-align: right;\n",
       "    }\n",
       "</style>\n",
       "<table border=\"1\" class=\"dataframe\">\n",
       "  <thead>\n",
       "    <tr style=\"text-align: right;\">\n",
       "      <th></th>\n",
       "      <th>classifiers</th>\n",
       "      <th>fpr</th>\n",
       "      <th>tpr</th>\n",
       "      <th>auc</th>\n",
       "      <th>label</th>\n",
       "    </tr>\n",
       "  </thead>\n",
       "  <tbody>\n",
       "    <tr>\n",
       "      <th>0</th>\n",
       "      <td>Pipeline</td>\n",
       "      <td>[0.0, 0.0, 0.0, 0.00030959752321981426, 0.0003...</td>\n",
       "      <td>[0.0, 0.00015997440409534473, 0.00575907854743...</td>\n",
       "      <td>0.712421</td>\n",
       "      <td>baseline_SVC</td>\n",
       "    </tr>\n",
       "    <tr>\n",
       "      <th>1</th>\n",
       "      <td>RandomForestClassifier</td>\n",
       "      <td>[0.0, 0.0, 0.0, 0.0, 0.0, 0.0, 0.0, 0.0, 0.0, ...</td>\n",
       "      <td>[0.0, 0.00015997440409534473, 0.00047992321228...</td>\n",
       "      <td>0.729292</td>\n",
       "      <td>baseline_RF</td>\n",
       "    </tr>\n",
       "    <tr>\n",
       "      <th>2</th>\n",
       "      <td>RandomForestClassifier</td>\n",
       "      <td>[0.0, 0.0, 0.0, 0.0, 0.0, 0.0, 0.0, 0.0, 0.0, ...</td>\n",
       "      <td>[0.0, 0.00047992321228603423, 0.00063989761638...</td>\n",
       "      <td>0.735981</td>\n",
       "      <td>tuned_RF</td>\n",
       "    </tr>\n",
       "  </tbody>\n",
       "</table>\n",
       "</div>"
      ],
      "text/plain": [
       "              classifiers                                                fpr  \\\n",
       "0                Pipeline  [0.0, 0.0, 0.0, 0.00030959752321981426, 0.0003...   \n",
       "1  RandomForestClassifier  [0.0, 0.0, 0.0, 0.0, 0.0, 0.0, 0.0, 0.0, 0.0, ...   \n",
       "2  RandomForestClassifier  [0.0, 0.0, 0.0, 0.0, 0.0, 0.0, 0.0, 0.0, 0.0, ...   \n",
       "\n",
       "                                                 tpr       auc         label  \n",
       "0  [0.0, 0.00015997440409534473, 0.00575907854743...  0.712421  baseline_SVC  \n",
       "1  [0.0, 0.00015997440409534473, 0.00047992321228...  0.729292   baseline_RF  \n",
       "2  [0.0, 0.00047992321228603423, 0.00063989761638...  0.735981      tuned_RF  "
      ]
     },
     "execution_count": 73,
     "metadata": {},
     "output_type": "execute_result"
    }
   ],
   "source": [
    "result_table"
   ]
  },
  {
   "cell_type": "code",
   "execution_count": 76,
   "metadata": {},
   "outputs": [
    {
     "data": {
      "image/png": "[encoded data removed]",
      "text/plain": [
       "<Figure size 576x432 with 1 Axes>"
      ]
     },
     "metadata": {
      "needs_background": "light"
     },
     "output_type": "display_data"
    },
    {
     "data": {
      "text/plain": [
       "<Figure size 432x288 with 0 Axes>"
      ]
     },
     "metadata": {},
     "output_type": "display_data"
    }
   ],
   "source": [
    "fig = plt.figure(figsize=(8,6))\n",
    "\n",
    "for i in range(3):\n",
    "    plt.plot(result_table.iloc[i]['fpr'], \n",
    "             result_table.iloc[i]['tpr'],\n",
    "             label=\"{}, AUC={:.3f}\".format(result_table.iloc[i][\"label\"], result_table.iloc[i]['auc']))\n",
    "    \n",
    "plt.plot([0,1], [0,1], color='orange', linestyle='--')\n",
    "\n",
    "plt.xticks(np.arange(0.0, 1.1, step=0.1))\n",
    "plt.xlabel(\"Flase Positive Rate\", fontsize=15)\n",
    "\n",
    "plt.yticks(np.arange(0.0, 1.1, step=0.1))\n",
    "plt.ylabel(\"True Positive Rate\", fontsize=15)\n",
    "\n",
    "plt.title('ROC Curve Analysis', fontweight='bold', fontsize=15)\n",
    "plt.legend(prop={'size':13}, loc='lower right')\n",
    "\n",
    "plt.show()\n",
    "\n",
    "plt.savefig(\"roc.svg\", format=\"svg\")"
   ]
  },
  {
   "cell_type": "code",
   "execution_count": null,
   "metadata": {},
   "outputs": [],
   "source": []
  }
 ],
 "metadata": {
  "kernelspec": {
   "display_name": "Python 3",
   "language": "python",
   "name": "python3"
  },
  "language_info": {
   "codemirror_mode": {
    "name": "ipython",
    "version": 3
   },
   "file_extension": ".py",
   "mimetype": "text/x-python",
   "name": "python",
   "nbconvert_exporter": "python",
   "pygments_lexer": "ipython3",
   "version": "3.7.3"
  }
 },
 "nbformat": 4,
 "nbformat_minor": 4
}
